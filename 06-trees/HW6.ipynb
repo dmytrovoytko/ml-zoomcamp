{
 "cells": [
  {
   "cell_type": "markdown",
   "metadata": {},
   "source": [
    "### Dataset\n",
    "\n",
    "In this homework, we will use the Students Performance in 2024 JAMB dataset from [Kaggle](https://www.kaggle.com/datasets/idowuadamo/students-performance-in-2024-jamb).\n",
    "\n",
    "Here's a wget-able [link](https://github.com/alexeygrigorev/datasets/raw/refs/heads/master/jamb_exam_results.csv):\n",
    "\n",
    "```bash\n",
    "wget https://github.com/alexeygrigorev/datasets/raw/refs/heads/master/jamb_exam_results.csv\n",
    "```\n",
    "\n",
    "The goal of this homework is to create a regression model for predicting the performance of students on a standardized test (column `'JAMB_Score'`)."
   ]
  },
  {
   "cell_type": "code",
   "execution_count": 1,
   "metadata": {},
   "outputs": [],
   "source": [
    "url = \"https://github.com/alexeygrigorev/datasets/raw/refs/heads/master/jamb_exam_results.csv\""
   ]
  },
  {
   "cell_type": "code",
   "execution_count": 2,
   "metadata": {},
   "outputs": [],
   "source": [
    "import pandas as pd\n",
    "import numpy as np\n",
    "import matplotlib.pyplot as plt\n",
    "\n",
    "from sklearn.model_selection import train_test_split\n",
    "from sklearn.feature_extraction import DictVectorizer\n",
    "from sklearn.metrics import root_mean_squared_error\n",
    "from sklearn.ensemble import RandomForestRegressor\n",
    "from sklearn.tree import DecisionTreeRegressor, export_text"
   ]
  },
  {
   "cell_type": "code",
   "execution_count": 3,
   "metadata": {},
   "outputs": [],
   "source": [
    "df = pd.read_csv(url)"
   ]
  },
  {
   "cell_type": "code",
   "execution_count": 4,
   "metadata": {},
   "outputs": [
    {
     "data": {
      "text/html": [
       "<div>\n",
       "<style scoped>\n",
       "    .dataframe tbody tr th:only-of-type {\n",
       "        vertical-align: middle;\n",
       "    }\n",
       "\n",
       "    .dataframe tbody tr th {\n",
       "        vertical-align: top;\n",
       "    }\n",
       "\n",
       "    .dataframe thead th {\n",
       "        text-align: right;\n",
       "    }\n",
       "</style>\n",
       "<table border=\"1\" class=\"dataframe\">\n",
       "  <thead>\n",
       "    <tr style=\"text-align: right;\">\n",
       "      <th></th>\n",
       "      <th>0</th>\n",
       "      <th>1</th>\n",
       "      <th>2</th>\n",
       "      <th>3</th>\n",
       "      <th>4</th>\n",
       "    </tr>\n",
       "  </thead>\n",
       "  <tbody>\n",
       "    <tr>\n",
       "      <th>jamb_score</th>\n",
       "      <td>192</td>\n",
       "      <td>207</td>\n",
       "      <td>182</td>\n",
       "      <td>210</td>\n",
       "      <td>199</td>\n",
       "    </tr>\n",
       "    <tr>\n",
       "      <th>study_hours_per_week</th>\n",
       "      <td>22</td>\n",
       "      <td>14</td>\n",
       "      <td>29</td>\n",
       "      <td>29</td>\n",
       "      <td>12</td>\n",
       "    </tr>\n",
       "    <tr>\n",
       "      <th>attendance_rate</th>\n",
       "      <td>78</td>\n",
       "      <td>88</td>\n",
       "      <td>87</td>\n",
       "      <td>99</td>\n",
       "      <td>98</td>\n",
       "    </tr>\n",
       "    <tr>\n",
       "      <th>teacher_quality</th>\n",
       "      <td>4</td>\n",
       "      <td>4</td>\n",
       "      <td>2</td>\n",
       "      <td>2</td>\n",
       "      <td>3</td>\n",
       "    </tr>\n",
       "    <tr>\n",
       "      <th>distance_to_school</th>\n",
       "      <td>12.4</td>\n",
       "      <td>2.7</td>\n",
       "      <td>9.6</td>\n",
       "      <td>2.6</td>\n",
       "      <td>8.8</td>\n",
       "    </tr>\n",
       "    <tr>\n",
       "      <th>school_type</th>\n",
       "      <td>Public</td>\n",
       "      <td>Public</td>\n",
       "      <td>Public</td>\n",
       "      <td>Public</td>\n",
       "      <td>Public</td>\n",
       "    </tr>\n",
       "    <tr>\n",
       "      <th>school_location</th>\n",
       "      <td>Urban</td>\n",
       "      <td>Rural</td>\n",
       "      <td>Rural</td>\n",
       "      <td>Urban</td>\n",
       "      <td>Urban</td>\n",
       "    </tr>\n",
       "    <tr>\n",
       "      <th>extra_tutorials</th>\n",
       "      <td>Yes</td>\n",
       "      <td>No</td>\n",
       "      <td>Yes</td>\n",
       "      <td>No</td>\n",
       "      <td>No</td>\n",
       "    </tr>\n",
       "    <tr>\n",
       "      <th>access_to_learning_materials</th>\n",
       "      <td>Yes</td>\n",
       "      <td>Yes</td>\n",
       "      <td>Yes</td>\n",
       "      <td>Yes</td>\n",
       "      <td>Yes</td>\n",
       "    </tr>\n",
       "    <tr>\n",
       "      <th>parent_involvement</th>\n",
       "      <td>High</td>\n",
       "      <td>High</td>\n",
       "      <td>High</td>\n",
       "      <td>Medium</td>\n",
       "      <td>Medium</td>\n",
       "    </tr>\n",
       "    <tr>\n",
       "      <th>it_knowledge</th>\n",
       "      <td>Medium</td>\n",
       "      <td>High</td>\n",
       "      <td>Medium</td>\n",
       "      <td>High</td>\n",
       "      <td>Medium</td>\n",
       "    </tr>\n",
       "    <tr>\n",
       "      <th>student_id</th>\n",
       "      <td>1</td>\n",
       "      <td>2</td>\n",
       "      <td>3</td>\n",
       "      <td>4</td>\n",
       "      <td>5</td>\n",
       "    </tr>\n",
       "    <tr>\n",
       "      <th>age</th>\n",
       "      <td>17</td>\n",
       "      <td>15</td>\n",
       "      <td>20</td>\n",
       "      <td>22</td>\n",
       "      <td>22</td>\n",
       "    </tr>\n",
       "    <tr>\n",
       "      <th>gender</th>\n",
       "      <td>Male</td>\n",
       "      <td>Male</td>\n",
       "      <td>Female</td>\n",
       "      <td>Female</td>\n",
       "      <td>Female</td>\n",
       "    </tr>\n",
       "    <tr>\n",
       "      <th>socioeconomic_status</th>\n",
       "      <td>Low</td>\n",
       "      <td>High</td>\n",
       "      <td>High</td>\n",
       "      <td>Medium</td>\n",
       "      <td>Medium</td>\n",
       "    </tr>\n",
       "    <tr>\n",
       "      <th>parent_education_level</th>\n",
       "      <td>Tertiary</td>\n",
       "      <td>NaN</td>\n",
       "      <td>Tertiary</td>\n",
       "      <td>Tertiary</td>\n",
       "      <td>Tertiary</td>\n",
       "    </tr>\n",
       "    <tr>\n",
       "      <th>assignments_completed</th>\n",
       "      <td>2</td>\n",
       "      <td>1</td>\n",
       "      <td>2</td>\n",
       "      <td>1</td>\n",
       "      <td>1</td>\n",
       "    </tr>\n",
       "  </tbody>\n",
       "</table>\n",
       "</div>"
      ],
      "text/plain": [
       "                                     0       1         2         3         4\n",
       "jamb_score                         192     207       182       210       199\n",
       "study_hours_per_week                22      14        29        29        12\n",
       "attendance_rate                     78      88        87        99        98\n",
       "teacher_quality                      4       4         2         2         3\n",
       "distance_to_school                12.4     2.7       9.6       2.6       8.8\n",
       "school_type                     Public  Public    Public    Public    Public\n",
       "school_location                  Urban   Rural     Rural     Urban     Urban\n",
       "extra_tutorials                    Yes      No       Yes        No        No\n",
       "access_to_learning_materials       Yes     Yes       Yes       Yes       Yes\n",
       "parent_involvement                High    High      High    Medium    Medium\n",
       "it_knowledge                    Medium    High    Medium      High    Medium\n",
       "student_id                           1       2         3         4         5\n",
       "age                                 17      15        20        22        22\n",
       "gender                            Male    Male    Female    Female    Female\n",
       "socioeconomic_status               Low    High      High    Medium    Medium\n",
       "parent_education_level        Tertiary     NaN  Tertiary  Tertiary  Tertiary\n",
       "assignments_completed                2       1         2         1         1"
      ]
     },
     "execution_count": 4,
     "metadata": {},
     "output_type": "execute_result"
    }
   ],
   "source": [
    "df.columns = df.columns.str.lower().str.replace(' ', '_')\n",
    "df.head().T"
   ]
  },
  {
   "cell_type": "code",
   "execution_count": 5,
   "metadata": {},
   "outputs": [],
   "source": [
    "df.drop(columns='student_id', inplace=True)"
   ]
  },
  {
   "cell_type": "code",
   "execution_count": 6,
   "metadata": {},
   "outputs": [
    {
     "data": {
      "text/plain": [
       "jamb_score                        0\n",
       "study_hours_per_week              0\n",
       "attendance_rate                   0\n",
       "teacher_quality                   0\n",
       "distance_to_school                0\n",
       "school_type                       0\n",
       "school_location                   0\n",
       "extra_tutorials                   0\n",
       "access_to_learning_materials      0\n",
       "parent_involvement                0\n",
       "it_knowledge                      0\n",
       "age                               0\n",
       "gender                            0\n",
       "socioeconomic_status              0\n",
       "parent_education_level          891\n",
       "assignments_completed             0\n",
       "dtype: int64"
      ]
     },
     "execution_count": 6,
     "metadata": {},
     "output_type": "execute_result"
    }
   ],
   "source": [
    "df.isnull().sum()"
   ]
  },
  {
   "cell_type": "code",
   "execution_count": 7,
   "metadata": {},
   "outputs": [],
   "source": [
    "df.fillna(0, inplace=True)"
   ]
  },
  {
   "cell_type": "code",
   "execution_count": 8,
   "metadata": {},
   "outputs": [],
   "source": [
    "X = df.drop(columns='jamb_score')\n",
    "y = df.jamb_score.values"
   ]
  },
  {
   "cell_type": "code",
   "execution_count": 9,
   "metadata": {},
   "outputs": [],
   "source": [
    "X_full_train, X_test, y_full_train, y_test = train_test_split(X, y, test_size=0.2, random_state=1)\n",
    "X_train, X_val, y_train, y_val = train_test_split(X_full_train, y_full_train, test_size=0.25, random_state=1)"
   ]
  },
  {
   "cell_type": "code",
   "execution_count": 10,
   "metadata": {},
   "outputs": [],
   "source": [
    "dv = DictVectorizer(sparse=True)\n",
    "\n",
    "X_train_dict = X_train.to_dict(orient='records')\n",
    "X_train_trans = dv.fit_transform(X_train_dict)\n",
    "\n",
    "X_val_dict = X_val.to_dict(orient='records')\n",
    "X_val_trans = dv.transform(X_val_dict)"
   ]
  },
  {
   "cell_type": "markdown",
   "metadata": {},
   "source": [
    "## Question 1\n",
    "\n",
    "Let's train a decision tree regressor to predict the `jamb_score` variable. \n",
    "\n",
    "* Train a model with `max_depth=1`.\n",
    "\n",
    "\n",
    "Which feature is used for splitting the data?\n",
    "\n",
    "* `study_hours_per_week`\n",
    "* `attendance_rate`\n",
    "* `teacher_quality`\n",
    "* `distance_to_school`"
   ]
  },
  {
   "cell_type": "code",
   "execution_count": 11,
   "metadata": {},
   "outputs": [
    {
     "name": "stdout",
     "output_type": "stream",
     "text": [
      "|--- study_hours_per_week <= 18.50\n",
      "|   |--- value: [155.24]\n",
      "|--- study_hours_per_week >  18.50\n",
      "|   |--- value: [188.59]\n",
      "\n"
     ]
    }
   ],
   "source": [
    "dt = DecisionTreeRegressor(max_depth=1)\n",
    "dt.fit(X_train_trans, y_train)\n",
    "\n",
    "print(export_text(dt, feature_names=list(dv.get_feature_names_out())))"
   ]
  },
  {
   "cell_type": "markdown",
   "metadata": {},
   "source": [
    "## Question 2\n",
    "\n",
    "Train a random forest model with these parameters:\n",
    "\n",
    "* `n_estimators=10`\n",
    "* `random_state=1`\n",
    "* `n_jobs=-1` (optional - to make training faster)\n",
    "\n",
    "\n",
    "What's the RMSE of this model on validation?\n",
    "\n",
    "* 22.13\n",
    "* 42.13\n",
    "* 62.13\n",
    "* 82.12"
   ]
  },
  {
   "cell_type": "code",
   "execution_count": 12,
   "metadata": {},
   "outputs": [
    {
     "name": "stdout",
     "output_type": "stream",
     "text": [
      "42.13724207871227\n"
     ]
    }
   ],
   "source": [
    "rf = RandomForestRegressor(n_estimators=10, random_state=1, n_jobs=1)\n",
    "model = rf.fit(X_train_trans, y_train)\n",
    "y_pred = model.predict(X_val_trans)\n",
    "rmse = root_mean_squared_error(y_val, y_pred)\n",
    "print(rmse)"
   ]
  },
  {
   "cell_type": "markdown",
   "metadata": {},
   "source": [
    "## Question 3\n",
    "\n",
    "Now let's experiment with the `n_estimators` parameter\n",
    "\n",
    "* Try different values of this parameter from 10 to 200 with step 10.\n",
    "* Set `random_state` to `1`.\n",
    "* Evaluate the model on the validation dataset.\n",
    "\n",
    "\n",
    "After which value of `n_estimators` does RMSE stop improving?\n",
    "Consider 3 decimal places for calculating the answer.\n",
    "\n",
    "- 10\n",
    "- 25\n",
    "- 80\n",
    "- 200"
   ]
  },
  {
   "cell_type": "code",
   "execution_count": 13,
   "metadata": {},
   "outputs": [
    {
     "name": "stdout",
     "output_type": "stream",
     "text": [
      "10 42.137\n",
      "20 41.461\n",
      "30 41.106\n",
      "40 40.917\n",
      "50 40.852\n",
      "60 40.784\n",
      "70 40.677\n",
      "80 40.539\n",
      "90 40.504\n",
      "100 40.517\n",
      "110 40.593\n",
      "120 40.625\n",
      "130 40.651\n",
      "140 40.595\n",
      "150 40.597\n",
      "160 40.604\n",
      "170 40.628\n",
      "180 40.641\n",
      "190 40.631\n",
      "200 40.601\n"
     ]
    }
   ],
   "source": [
    "scores = []\n",
    "for n in range(10, 201, 10):\n",
    "    rf = RandomForestRegressor(n_estimators=n, random_state=1, n_jobs=1)\n",
    "    model = rf.fit(X_train_trans, y_train)\n",
    "    y_pred = model.predict(X_val_trans)\n",
    "    rmse = root_mean_squared_error(y_val, y_pred)\n",
    "    scores.append((n, rmse))\n",
    "    print(n, round(rmse, 3))\n"
   ]
  },
  {
   "cell_type": "code",
   "execution_count": 14,
   "metadata": {},
   "outputs": [
    {
     "data": {
      "text/plain": [
       "[<matplotlib.lines.Line2D at 0x79c6296b6ba0>]"
      ]
     },
     "execution_count": 14,
     "metadata": {},
     "output_type": "execute_result"
    },
    {
     "data": {
      "image/png": "[encoded data removed]",
      "text/plain": [
       "<Figure size 640x480 with 1 Axes>"
      ]
     },
     "metadata": {},
     "output_type": "display_data"
    }
   ],
   "source": [
    "df_scores = pd.DataFrame(scores, columns=['n_estimators', 'rmse'])\n",
    "plt.plot(df_scores.n_estimators, df_scores.rmse)"
   ]
  },
  {
   "cell_type": "markdown",
   "metadata": {},
   "source": [
    "## Question 4\n",
    "\n",
    "Let's select the best `max_depth`:\n",
    "\n",
    "* Try different values of `max_depth`: `[10, 15, 20, 25]`\n",
    "* For each of these values,\n",
    "  * try different values of `n_estimators` from 10 till 200 (with step 10)\n",
    "  * calculate the mean RMSE \n",
    "* Fix the random seed: `random_state=1`\n",
    "\n",
    "\n",
    "What's the best `max_depth`, using the mean RMSE?\n",
    "\n",
    "* 10\n",
    "* 15\n",
    "* 20\n",
    "* 25"
   ]
  },
  {
   "cell_type": "code",
   "execution_count": 15,
   "metadata": {},
   "outputs": [],
   "source": [
    "scores = []\n",
    "for d in [10, 15, 20, 25]:\n",
    "    for n in range(10, 201, 10):\n",
    "        rf = RandomForestRegressor(n_estimators=n, random_state=1, n_jobs=1, max_depth=d)\n",
    "        model = rf.fit(X_train_trans, y_train)\n",
    "        y_pred = model.predict(X_val_trans)\n",
    "        rmse = root_mean_squared_error(y_val, y_pred)\n",
    "        scores.append((d, n, rmse))"
   ]
  },
  {
   "cell_type": "code",
   "execution_count": 16,
   "metadata": {},
   "outputs": [
    {
     "data": {
      "text/plain": [
       "<matplotlib.legend.Legend at 0x79c612206870>"
      ]
     },
     "execution_count": 16,
     "metadata": {},
     "output_type": "execute_result"
    },
    {
     "data": {
      "image/png": "[encoded data removed]",
      "text/plain": [
       "<Figure size 640x480 with 1 Axes>"
      ]
     },
     "metadata": {},
     "output_type": "display_data"
    }
   ],
   "source": [
    "df_scores = pd.DataFrame(scores, columns=['max_depth', 'n_estimators', 'rmse'])\n",
    "for d in [10, 15, 20, 25]:\n",
    "    df_subset = df_scores[df_scores.max_depth == d]\n",
    "    \n",
    "    plt.plot(df_subset.n_estimators, df_subset.rmse, label=f'max_depth={d}')\n",
    "\n",
    "plt.legend()"
   ]
  },
  {
   "cell_type": "markdown",
   "metadata": {},
   "source": [
    "# Question 5\n",
    "\n",
    "We can extract feature importance information from tree-based models. \n",
    "\n",
    "At each step of the decision tree learning algorithm, it finds the best split. \n",
    "When doing it, we can calculate \"gain\" - the reduction in impurity before and after the split. \n",
    "This gain is quite useful in understanding what are the important features for tree-based models.\n",
    "\n",
    "In Scikit-Learn, tree-based models contain this information in the\n",
    "[`feature_importances_`](https://scikit-learn.org/stable/modules/generated/sklearn.ensemble.RandomForestRegressor.html#sklearn.ensemble.RandomForestRegressor.feature_importances_)\n",
    "field. \n",
    "\n",
    "For this homework question, we'll find the most important feature:\n",
    "\n",
    "* Train the model with these parameters:\n",
    "  * `n_estimators=10`,\n",
    "  * `max_depth=20`,\n",
    "  * `random_state=1`,\n",
    "  * `n_jobs=-1` (optional)\n",
    "* Get the feature importance information from this model\n",
    "\n",
    "\n",
    "What's the most important feature (among these 4)? \n",
    "\n",
    "* `study_hours_per_week`\n",
    "* `attendance_rate`\n",
    "* `distance_to_school`\n",
    "* `teacher_quality`"
   ]
  },
  {
   "cell_type": "code",
   "execution_count": 17,
   "metadata": {},
   "outputs": [],
   "source": [
    "rf = RandomForestRegressor(n_estimators=10, max_depth=20, random_state=1, n_jobs=1)\n",
    "model = rf.fit(X_train_trans, y_train)"
   ]
  },
  {
   "cell_type": "code",
   "execution_count": 18,
   "metadata": {},
   "outputs": [
    {
     "data": {
      "text/plain": [
       "[('study_hours_per_week', np.float64(0.24835361199396536)),\n",
       " ('attendance_rate', np.float64(0.1497290297846747)),\n",
       " ('distance_to_school', np.float64(0.1364858048632369)),\n",
       " ('teacher_quality', np.float64(0.0826822226388016)),\n",
       " ('age', np.float64(0.06931145469695398)),\n",
       " ('assignments_completed', np.float64(0.03151678945460071)),\n",
       " ('socioeconomic_status=High', np.float64(0.025714264343587142)),\n",
       " ('parent_involvement=High', np.float64(0.022918852929064194)),\n",
       " ('it_knowledge=High', np.float64(0.0177193420394119)),\n",
       " ('parent_education_level=Secondary', np.float64(0.016956919815100068))]"
      ]
     },
     "execution_count": 18,
     "metadata": {},
     "output_type": "execute_result"
    }
   ],
   "source": [
    "features = list(dv.get_feature_names_out())\n",
    "feature_importances = list(zip(features, model.feature_importances_))\n",
    "sorted(feature_importances, key=lambda x: x[1], reverse=True)[:10]\n"
   ]
  },
  {
   "cell_type": "code",
   "execution_count": 19,
   "metadata": {},
   "outputs": [
    {
     "data": {
      "image/png": "[encoded data removed]",
      "text/plain": [
       "<Figure size 640x480 with 1 Axes>"
      ]
     },
     "metadata": {},
     "output_type": "display_data"
    }
   ],
   "source": [
    "df_fi = pd.DataFrame(feature_importances, columns=['feature', 'importance']).sort_values(by='importance', ascending=False)\n",
    "df_fi.head(10).plot(kind='barh', y=\"importance\", x=\"feature\")\n",
    "plt.gca().invert_yaxis()"
   ]
  },
  {
   "cell_type": "markdown",
   "metadata": {},
   "source": [
    "## Question 6\n",
    "\n",
    "Now let's train an XGBoost model! For this question, we'll tune the `eta` parameter:\n",
    "\n",
    "* Install XGBoost\n",
    "* Create DMatrix for train and validation\n",
    "* Create a watchlist\n",
    "* Train a model with these parameters for 100 rounds:\n",
    "\n",
    "```\n",
    "xgb_params = {\n",
    "    'eta': 0.3, \n",
    "    'max_depth': 6,\n",
    "    'min_child_weight': 1,\n",
    "    \n",
    "    'objective': 'reg:squarederror',\n",
    "    'nthread': 8,\n",
    "    \n",
    "    'seed': 1,\n",
    "    'verbosity': 1,\n",
    "}\n",
    "```\n",
    "\n",
    "Now change `eta` from `0.3` to `0.1`.\n",
    "\n",
    "Which eta leads to the best RMSE score on the validation dataset?\n",
    "\n",
    "* 0.3\n",
    "* 0.1\n",
    "* Both give equal value"
   ]
  },
  {
   "cell_type": "code",
   "execution_count": 48,
   "metadata": {},
   "outputs": [],
   "source": [
    "import xgboost as xgb"
   ]
  },
  {
   "cell_type": "code",
   "execution_count": 49,
   "metadata": {},
   "outputs": [],
   "source": [
    "dtrain = xgb.DMatrix(X_train_trans, label=y_train, feature_names=features)\n",
    "dval = xgb.DMatrix(X_val_trans,label=y_val, feature_names=features)\n",
    "\n",
    "watchlist = [(dtrain, 'train'), (dval, 'val')]"
   ]
  },
  {
   "cell_type": "code",
   "execution_count": 50,
   "metadata": {},
   "outputs": [],
   "source": [
    "%%capture output1\n",
    "\n",
    "xgb_params = {\n",
    "    'eta': 0.3, \n",
    "    'max_depth': 6,\n",
    "    'min_child_weight': 1,\n",
    "    \n",
    "    'objective': 'reg:squarederror',\n",
    "    'nthread': 8,\n",
    "    \n",
    "    'seed': 1,\n",
    "    'verbosity': 1,\n",
    "}\n",
    "\n",
    "xgb.train(xgb_params, dtrain, evals=watchlist, num_boost_round=100)"
   ]
  },
  {
   "cell_type": "code",
   "execution_count": 51,
   "metadata": {},
   "outputs": [],
   "source": [
    "def parse_xgb_output(output):\n",
    "    results = []\n",
    "\n",
    "    for line in output.stdout.strip().split('\\n'):\n",
    "        it_line, train_line, val_line = line.split('\\t')\n",
    "\n",
    "        it = int(it_line.strip('[]'))\n",
    "        train = float(train_line.split(':')[1])\n",
    "        val = float(val_line.split(':')[1])\n",
    "\n",
    "        results.append((it, train, val))\n",
    "    \n",
    "    columns = ['num_iter', 'train_rmse', 'val_rmse']\n",
    "    df_results = pd.DataFrame(results, columns=columns)\n",
    "    return df_results"
   ]
  },
  {
   "cell_type": "code",
   "execution_count": 52,
   "metadata": {},
   "outputs": [],
   "source": [
    "scores = {}"
   ]
  },
  {
   "cell_type": "code",
   "execution_count": 53,
   "metadata": {},
   "outputs": [
    {
     "data": {
      "text/plain": [
       "('eta=0.3',\n",
       "     num_iter  train_rmse  val_rmse\n",
       " 0          0    42.69384  44.89114\n",
       " 1          1    39.83326  43.07010\n",
       " 2          2    37.94542  42.00332\n",
       " 3          3    36.56125  41.46452\n",
       " 4          4    35.44252  40.88896\n",
       " ..       ...         ...       ...\n",
       " 95        95    11.95568  43.37919\n",
       " 96        96    11.76819  43.39410\n",
       " 97        97    11.58218  43.40203\n",
       " 98        98    11.53812  43.40245\n",
       " 99        99    11.39140  43.41882\n",
       " \n",
       " [100 rows x 3 columns])"
      ]
     },
     "execution_count": 53,
     "metadata": {},
     "output_type": "execute_result"
    }
   ],
   "source": [
    "key = f\"eta={xgb_params['eta']}\"\n",
    "scores[key] = parse_xgb_output(output1)\n",
    "key, scores[key]"
   ]
  },
  {
   "cell_type": "code",
   "execution_count": 56,
   "metadata": {},
   "outputs": [],
   "source": [
    "%%capture output1\n",
    "xgb_params['eta'] = 0.1\n",
    "xgb.train(xgb_params, dtrain, evals=watchlist, num_boost_round=100)\n",
    "\n",
    "\n",
    "key = f\"eta={xgb_params['eta']}\"\n",
    "scores[key] = parse_xgb_output(output1)\n",
    "key, scores[key]"
   ]
  },
  {
   "cell_type": "code",
   "execution_count": 57,
   "metadata": {},
   "outputs": [
    {
     "data": {
      "text/plain": [
       "<matplotlib.legend.Legend at 0x79c6008b5010>"
      ]
     },
     "execution_count": 57,
     "metadata": {},
     "output_type": "execute_result"
    },
    {
     "data": {
      "image/png": "[encoded data removed]",
      "text/plain": [
       "<Figure size 640x480 with 1 Axes>"
      ]
     },
     "metadata": {},
     "output_type": "display_data"
    }
   ],
   "source": [
    "for key, df_score in scores.items():\n",
    "    plt.plot(df_score.num_iter, df_score.val_rmse, label=key)\n",
    "plt.legend()"
   ]
  }
 ],
 "metadata": {
  "kernelspec": {
   "display_name": "Python 3",
   "language": "python",
   "name": "python3"
  },
  "language_info": {
   "codemirror_mode": {
    "name": "ipython",
    "version": 3
   },
   "file_extension": ".py",
   "mimetype": "text/x-python",
   "name": "python",
   "nbconvert_exporter": "python",
   "pygments_lexer": "ipython3",
   "version": "3.12.1"
  }
 },
 "nbformat": 4,
 "nbformat_minor": 2
}
